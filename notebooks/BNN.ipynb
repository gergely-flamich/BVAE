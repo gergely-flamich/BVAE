{
 "cells": [
  {
   "cell_type": "code",
   "execution_count": 1,
   "metadata": {},
   "outputs": [],
   "source": [
    "import sys\n",
    "sys.path.append('/scratch/gf332/Misc/BVAE/code')\n",
    "\n",
    "import tensorflow as tf\n",
    "import tensorflow_probability as tfp\n",
    "import tensorflow_datasets as tfds\n",
    "\n",
    "from bnn import MnistBNN\n",
    "from adaptive_sghmc import AdaptiveSGHMC\n",
    "\n",
    "import matplotlib.pyplot as plt\n",
    "\n",
    "tfd = tfp.distributions\n",
    "\n",
    "data_dir = \"/scratch/gf332/Misc/datasets/\""
   ]
  },
  {
   "cell_type": "code",
   "execution_count": 2,
   "metadata": {},
   "outputs": [],
   "source": [
    "# Set CPU as available physical device\n",
    "tf.config.experimental.set_visible_devices([], 'GPU')"
   ]
  },
  {
   "cell_type": "code",
   "execution_count": 3,
   "metadata": {},
   "outputs": [],
   "source": [
    "mnist = tfds.load(\"mnist\", data_dir=data_dir)"
   ]
  },
  {
   "cell_type": "code",
   "execution_count": 4,
   "metadata": {},
   "outputs": [],
   "source": [
    "model_save_dir = \"/scratch/gf332/Misc/bnn_experiments/bnn/adaptive_sghmc/prior_per_unit\""
   ]
  },
  {
   "cell_type": "code",
   "execution_count": 5,
   "metadata": {
    "scrolled": false
   },
   "outputs": [
    {
     "name": "stdout",
     "output_type": "stream",
     "text": [
      "Restored model from /scratch/gf332/Misc/bnn_experiments/bnn/adaptive_sghmc/prior_per_unit/ckpt-283\n"
     ]
    }
   ],
   "source": [
    "model = MnistBNN(prior_mode=\"per_unit\")\n",
    "model.build(input_shape=(1, 28, 28, 1))\n",
    "\n",
    "optimizer = AdaptiveSGHMC(learning_rate=1e-2,\n",
    "                            burnin=240,\n",
    "                            data_size=60000,\n",
    "                            overestimation_rate=10,\n",
    "                            initialization_rounds=10,\n",
    "                            momentum_decay=0.05)\n",
    "\n",
    "ckpt = tf.train.Checkpoint(model=model,\n",
    "                          optimizer=optimizer)\n",
    "\n",
    "manager = tf.train.CheckpointManager(ckpt, model_save_dir, max_to_keep=3)\n",
    "\n",
    "# Restore previous session\n",
    "ckpt.restore(manager.latest_checkpoint)#.expect_partial()\n",
    "if manager.latest_checkpoint:\n",
    "    print(f\"Restored model from {manager.latest_checkpoint}\")\n",
    "else:\n",
    "    print(\"Initializing model from scratch.\")"
   ]
  },
  {
   "cell_type": "code",
   "execution_count": 6,
   "metadata": {
    "scrolled": false
   },
   "outputs": [
    {
     "data": {
      "image/png": "[encoded data removed]",
      "text/plain": [
       "<Figure size 432x288 with 1 Axes>"
      ]
     },
     "metadata": {
      "needs_background": "light"
     },
     "output_type": "display_data"
    },
    {
     "name": "stdout",
     "output_type": "stream",
     "text": [
      "Actual:  9\n",
      "Predicted:  5\n",
      "Logits:  tf.Tensor(\n",
      "[-5.231709  -5.6140614 -6.4752564 -5.077702   1.6826061  2.8264308\n",
      " -9.618147   1.2905574 -1.7433119  2.742157 ], shape=(10,), dtype=float32)\n"
     ]
    },
    {
     "data": {
      "image/png": "[encoded data removed]",
      "text/plain": [
       "<Figure size 432x288 with 1 Axes>"
      ]
     },
     "metadata": {
      "needs_background": "light"
     },
     "output_type": "display_data"
    },
    {
     "name": "stdout",
     "output_type": "stream",
     "text": [
      "Actual:  2\n",
      "Predicted:  8\n",
      "Logits:  tf.Tensor(\n",
      "[ -0.3690505  -6.3393383  -0.8298243  -7.830664  -10.631472   -3.5787036\n",
      " -12.61907     2.3502748   4.0555506  -7.919458 ], shape=(10,), dtype=float32)\n"
     ]
    },
    {
     "data": {
      "image/png": "[encoded data removed]",
      "text/plain": [
       "<Figure size 432x288 with 1 Axes>"
      ]
     },
     "metadata": {
      "needs_background": "light"
     },
     "output_type": "display_data"
    },
    {
     "name": "stdout",
     "output_type": "stream",
     "text": [
      "Actual:  7\n",
      "Predicted:  1\n",
      "Logits:  tf.Tensor(\n",
      "[-20.324125    3.4454758  -2.96273    -5.0125237  -2.014497   -3.0168414\n",
      "  -9.372817    2.4257388  -2.7351015  -3.8371778], shape=(10,), dtype=float32)\n"
     ]
    }
   ],
   "source": [
    "test_ds = mnist['test']\n",
    "test_ds = test_ds.map(lambda x: (tf.cast(x[\"image\"], tf.float32) / 255., x[\"label\"])).shuffle(300)\n",
    "\n",
    "for im, label in test_ds.batch(100).take(1):\n",
    "    \n",
    "#     plt.figure()\n",
    "#     plt.imshow(im[0, ..., 0])\n",
    "#     plt.show()\n",
    "    \n",
    "    logits = model(im)\n",
    "    \n",
    "    misclassified_mask = tf.argmax(logits, axis=1) != label\n",
    "    \n",
    "    ims = im[misclassified_mask]\n",
    "    labs = label[misclassified_mask]\n",
    "    logs = logits[misclassified_mask]\n",
    "    \n",
    "    for mis_im, lab, log in zip(ims, labs, logs):\n",
    "        \n",
    "        plt.figure()\n",
    "        plt.imshow(mis_im[..., 0])\n",
    "        plt.show()\n",
    "        \n",
    "        print(\"Actual: \", lab.numpy())\n",
    "        print(\"Predicted: \", tf.argmax(log).numpy())\n",
    "        print(\"Logits: \", log)\n",
    "        \n",
    "    \n",
    "    if ims.shape[0] == 0:\n",
    "        print(\"All correct\")"
   ]
  },
  {
   "cell_type": "code",
   "execution_count": 7,
   "metadata": {},
   "outputs": [
    {
     "name": "stdout",
     "output_type": "stream",
     "text": [
      "Accuracy: 0.974\n"
     ]
    }
   ],
   "source": [
    "test_accuracy = 0.\n",
    "total_size = 0.\n",
    "\n",
    "batch_size = 500\n",
    "\n",
    "for im, label in test_ds.batch(batch_size).take(1):\n",
    "    \n",
    "    probs = model(im)\n",
    "    \n",
    "    test_accuracy += tf.reduce_sum(tf.cast(tf.argmax(probs, axis=1) == label, tf.float32))\n",
    "    \n",
    "    total_size += tf.cast(label.shape[0], tf.float32)\n",
    "    \n",
    "test_accuracy = test_accuracy / total_size\n",
    "\n",
    "print(f\"Accuracy: {test_accuracy:.3f}\")"
   ]
  }
 ],
 "metadata": {
  "kernelspec": {
   "display_name": "Python 3",
   "language": "python",
   "name": "python3"
  },
  "language_info": {
   "codemirror_mode": {
    "name": "ipython",
    "version": 3
   },
   "file_extension": ".py",
   "mimetype": "text/x-python",
   "name": "python",
   "nbconvert_exporter": "python",
   "pygments_lexer": "ipython3",
   "version": "3.7.7"
  }
 },
 "nbformat": 4,
 "nbformat_minor": 4
}
