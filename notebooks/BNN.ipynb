{
 "cells": [
  {
   "cell_type": "code",
   "execution_count": 1,
   "metadata": {},
   "outputs": [],
   "source": [
    "import sys\n",
    "sys.path.append('/scratch/gf332/Misc/BVAE/code')\n",
    "\n",
    "import tensorflow as tf\n",
    "import tensorflow_probability as tfp\n",
    "import tensorflow_datasets as tfds\n",
    "\n",
    "from bnn import BNN\n",
    "\n",
    "import matplotlib.pyplot as plt\n",
    "\n",
    "tfd = tfp.distributions\n",
    "\n",
    "data_dir = \"/scratch/gf332/Misc/datasets/\""
   ]
  },
  {
   "cell_type": "code",
   "execution_count": 2,
   "metadata": {},
   "outputs": [],
   "source": [
    "# Set CPU as available physical device\n",
    "tf.config.experimental.set_visible_devices([], 'GPU')"
   ]
  },
  {
   "cell_type": "code",
   "execution_count": 3,
   "metadata": {},
   "outputs": [],
   "source": [
    "mnist = tfds.load(\"mnist\", data_dir=data_dir)"
   ]
  },
  {
   "cell_type": "code",
   "execution_count": 4,
   "metadata": {},
   "outputs": [],
   "source": [
    "model_save_dir = \"/scratch/gf332/Misc/bnn_experiments/bnn\""
   ]
  },
  {
   "cell_type": "code",
   "execution_count": 5,
   "metadata": {},
   "outputs": [
    {
     "name": "stdout",
     "output_type": "stream",
     "text": [
      "Restored model from /scratch/gf332/Misc/bnn_experiments/bnn/ckpt-138\n"
     ]
    }
   ],
   "source": [
    "model = BNN()\n",
    "model.build(input_shape=(1, 28, 28, 1))\n",
    "\n",
    "ckpt = tf.train.Checkpoint(model=model)\n",
    "\n",
    "manager = tf.train.CheckpointManager(ckpt, model_save_dir, max_to_keep=3)\n",
    "\n",
    "# Restore previous session\n",
    "ckpt.restore(manager.latest_checkpoint)#.expect_partial()\n",
    "if manager.latest_checkpoint:\n",
    "    print(f\"Restored model from {manager.latest_checkpoint}\")\n",
    "else:\n",
    "    print(\"Initializing model from scratch.\")"
   ]
  },
  {
   "cell_type": "code",
   "execution_count": 6,
   "metadata": {},
   "outputs": [
    {
     "name": "stdout",
     "output_type": "stream",
     "text": [
      "tf.Tensor(\n",
      "[[8.8955928e-04 4.4752736e-07 2.2298316e-06 1.5765008e-07 2.8720076e-04\n",
      "  7.4384287e-02 9.2281157e-01 9.5690403e-08 1.2518546e-03 3.7260409e-04]], shape=(1, 10), dtype=float32)\n",
      "Actual:  6\n",
      "Prediction: 6\n"
     ]
    },
    {
     "data": {
      "image/png": "[encoded data removed]",
      "text/plain": [
       "<Figure size 432x288 with 1 Axes>"
      ]
     },
     "metadata": {
      "needs_background": "light"
     },
     "output_type": "display_data"
    }
   ],
   "source": [
    "test_ds = mnist['test']\n",
    "test_ds = test_ds.map(lambda x: (tf.cast(x[\"image\"], tf.float32) / 255., x[\"label\"])).shuffle(300)\n",
    "\n",
    "for im, label in test_ds.batch(1).take(1):\n",
    "    \n",
    "    plt.imshow(im[0, ..., 0])\n",
    "    \n",
    "    probs = model(im)\n",
    "    \n",
    "    print(probs)\n",
    "    \n",
    "    print(\"Actual: \", label[0].numpy())\n",
    "    print(\"Prediction:\", tf.argmax(probs, axis=1)[0].numpy())"
   ]
  },
  {
   "cell_type": "code",
   "execution_count": 7,
   "metadata": {},
   "outputs": [],
   "source": [
    "test_accuracy = 0.\n",
    "total_size = 0.\n",
    "\n",
    "batch_size = 500\n",
    "\n",
    "for im, label in test_ds.batch(batch_size).take(1):\n",
    "    \n",
    "    probs = model(im)\n",
    "    \n",
    "    test_accuracy += tf.reduce_sum(tf.cast(tf.argmax(probs, axis=1) == label, tf.float32))\n",
    "    \n",
    "    total_size += tf.cast(label.shape[0], tf.float32)\n",
    "    \n",
    "test_accuracy = test_accuracy / total_size"
   ]
  },
  {
   "cell_type": "code",
   "execution_count": 8,
   "metadata": {},
   "outputs": [
    {
     "data": {
      "text/plain": [
       "<tf.Tensor: shape=(), dtype=float32, numpy=0.922>"
      ]
     },
     "execution_count": 8,
     "metadata": {},
     "output_type": "execute_result"
    }
   ],
   "source": [
    "test_accuracy"
   ]
  }
 ],
 "metadata": {
  "kernelspec": {
   "display_name": "Python 3",
   "language": "python",
   "name": "python3"
  },
  "language_info": {
   "codemirror_mode": {
    "name": "ipython",
    "version": 3
   },
   "file_extension": ".py",
   "mimetype": "text/x-python",
   "name": "python",
   "nbconvert_exporter": "python",
   "pygments_lexer": "ipython3",
   "version": "3.7.7"
  }
 },
 "nbformat": 4,
 "nbformat_minor": 4
}
