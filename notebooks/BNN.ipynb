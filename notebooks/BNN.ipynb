{
 "cells": [
  {
   "cell_type": "code",
   "execution_count": 1,
   "metadata": {},
   "outputs": [],
   "source": [
    "import sys\n",
    "sys.path.append('/scratch/gf332/Misc/BVAE/code')\n",
    "\n",
    "import tensorflow as tf\n",
    "import tensorflow_probability as tfp\n",
    "import tensorflow_datasets as tfds\n",
    "\n",
    "from bnn import MnistBNN\n",
    "\n",
    "import matplotlib.pyplot as plt\n",
    "\n",
    "tfd = tfp.distributions\n",
    "\n",
    "data_dir = \"/scratch/gf332/Misc/datasets/\""
   ]
  },
  {
   "cell_type": "code",
   "execution_count": 2,
   "metadata": {},
   "outputs": [],
   "source": [
    "# Set CPU as available physical device\n",
    "tf.config.experimental.set_visible_devices([], 'GPU')"
   ]
  },
  {
   "cell_type": "code",
   "execution_count": 3,
   "metadata": {},
   "outputs": [],
   "source": [
    "mnist = tfds.load(\"mnist\", data_dir=data_dir)"
   ]
  },
  {
   "cell_type": "code",
   "execution_count": 4,
   "metadata": {},
   "outputs": [],
   "source": [
    "model_save_dir = \"/scratch/gf332/Misc/bnn_experiments/bnn/adaptive_sghmc\""
   ]
  },
  {
   "cell_type": "code",
   "execution_count": 5,
   "metadata": {
    "scrolled": false
   },
   "outputs": [
    {
     "name": "stdout",
     "output_type": "stream",
     "text": [
      "Restored model from /scratch/gf332/Misc/bnn_experiments/bnn/adaptive_sghmc/ckpt-109\n"
     ]
    }
   ],
   "source": [
    "model = MnistBNN(prior_mode=\"per_unit\")\n",
    "model.build(input_shape=(1, 28, 28, 1))\n",
    "\n",
    "ckpt = tf.train.Checkpoint(model=model)\n",
    "\n",
    "manager = tf.train.CheckpointManager(ckpt, model_save_dir, max_to_keep=3)\n",
    "\n",
    "# Restore previous session\n",
    "ckpt.restore(manager.latest_checkpoint)#.expect_partial()\n",
    "if manager.latest_checkpoint:\n",
    "    print(f\"Restored model from {manager.latest_checkpoint}\")\n",
    "else:\n",
    "    print(\"Initializing model from scratch.\")"
   ]
  },
  {
   "cell_type": "code",
   "execution_count": 6,
   "metadata": {},
   "outputs": [
    {
     "name": "stdout",
     "output_type": "stream",
     "text": [
      "tf.Tensor(\n",
      "[[10.207422   -3.947017    1.4677496  -3.600501   -1.3905262  -0.43768513\n",
      "   0.3148603  -6.696678    1.5976071  -1.1196823 ]], shape=(1, 10), dtype=float32)\n",
      "Actual:  0\n",
      "Prediction: 0\n"
     ]
    },
    {
     "data": {
      "image/png": "[encoded data removed]",
      "text/plain": [
       "<Figure size 432x288 with 1 Axes>"
      ]
     },
     "metadata": {
      "needs_background": "light"
     },
     "output_type": "display_data"
    }
   ],
   "source": [
    "test_ds = mnist['test']\n",
    "test_ds = test_ds.map(lambda x: (tf.cast(x[\"image\"], tf.float32) / 255., x[\"label\"])).shuffle(300)\n",
    "\n",
    "for im, label in test_ds.batch(1).take(1):\n",
    "    \n",
    "    plt.imshow(im[0, ..., 0])\n",
    "    \n",
    "    probs = model(im)\n",
    "    \n",
    "    print(probs)\n",
    "    \n",
    "    print(\"Actual: \", label[0].numpy())\n",
    "    print(\"Prediction:\", tf.argmax(probs, axis=1)[0].numpy())"
   ]
  },
  {
   "cell_type": "code",
   "execution_count": 7,
   "metadata": {},
   "outputs": [],
   "source": [
    "test_accuracy = 0.\n",
    "total_size = 0.\n",
    "\n",
    "batch_size = 500\n",
    "\n",
    "for im, label in test_ds.batch(batch_size).take(1):\n",
    "    \n",
    "    probs = model(im)\n",
    "    \n",
    "    test_accuracy += tf.reduce_sum(tf.cast(tf.argmax(probs, axis=1) == label, tf.float32))\n",
    "    \n",
    "    total_size += tf.cast(label.shape[0], tf.float32)\n",
    "    \n",
    "test_accuracy = test_accuracy / total_size"
   ]
  },
  {
   "cell_type": "code",
   "execution_count": 8,
   "metadata": {},
   "outputs": [
    {
     "data": {
      "text/plain": [
       "<tf.Tensor: shape=(), dtype=float32, numpy=0.974>"
      ]
     },
     "execution_count": 8,
     "metadata": {},
     "output_type": "execute_result"
    }
   ],
   "source": [
    "test_accuracy"
   ]
  },
  {
   "cell_type": "code",
   "execution_count": 12,
   "metadata": {},
   "outputs": [
    {
     "data": {
      "text/plain": [
       "<tf.Variable 'gaussian_dense_with_gamma_prior/bias:0' shape=(100,) dtype=float32, numpy=\n",
       "array([-0.29713684,  0.32107168, -1.0266901 ,  0.17350578, -0.5020012 ,\n",
       "       -0.59763753, -0.00177804, -0.24735036,  0.11382482, -0.8367385 ,\n",
       "        0.20227253,  0.27358875,  0.5031383 , -0.37280738, -0.2405046 ,\n",
       "        0.23428324,  0.27635968, -0.07192654, -0.7104178 , -0.34404817,\n",
       "       -0.16803259, -0.7808662 , -0.01223843, -0.3145847 ,  0.35771242,\n",
       "        0.2958176 ,  0.23228861,  0.25939608, -0.12189829, -0.0613293 ,\n",
       "       -0.14819543,  0.2223088 ,  0.24345465, -0.5299225 ,  1.5751497 ,\n",
       "        0.42177474,  0.11472531, -0.13012785, -0.5817252 , -0.01348955,\n",
       "        0.79825485, -0.1720647 , -0.1810886 , -0.20753472,  0.19347312,\n",
       "       -0.28785712,  0.13102017, -0.14525807,  1.2507814 , -0.98688066,\n",
       "       -0.24045835,  0.04439099, -0.90586984,  0.19602628,  0.5625319 ,\n",
       "       -0.13005766, -0.47572732, -0.32455593, -0.23806043,  0.18258114,\n",
       "        0.33942118, -0.02304162,  0.04944873, -0.34313256, -0.1603341 ,\n",
       "       -0.08719755,  0.06380039,  0.354623  ,  0.30516255, -0.2678174 ,\n",
       "        0.21192934, -0.9136877 , -0.4253363 , -0.21505426, -0.15820254,\n",
       "        0.18642029, -0.36830628, -0.2927045 , -0.3819313 ,  0.07489416,\n",
       "        0.92055005, -0.12049192,  0.20449235,  0.77021015, -0.26302382,\n",
       "        0.13747342,  0.12564114, -0.15108441,  0.45906174, -0.62524194,\n",
       "       -0.4579642 , -0.2442462 , -0.7321135 ,  0.24116091,  0.36403072,\n",
       "       -1.1103028 , -0.36027288,  0.23440881,  0.58098805,  0.55287254],\n",
       "      dtype=float32)>"
      ]
     },
     "execution_count": 12,
     "metadata": {},
     "output_type": "execute_result"
    }
   ],
   "source": [
    "model.transforms[1].bias"
   ]
  }
 ],
 "metadata": {
  "kernelspec": {
   "display_name": "Python 3",
   "language": "python",
   "name": "python3"
  },
  "language_info": {
   "codemirror_mode": {
    "name": "ipython",
    "version": 3
   },
   "file_extension": ".py",
   "mimetype": "text/x-python",
   "name": "python",
   "nbconvert_exporter": "python",
   "pygments_lexer": "ipython3",
   "version": "3.7.7"
  }
 },
 "nbformat": 4,
 "nbformat_minor": 4
}
